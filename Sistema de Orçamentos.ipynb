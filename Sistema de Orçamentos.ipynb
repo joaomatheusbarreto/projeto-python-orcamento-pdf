{
 "cells": [
  {
   "cell_type": "markdown",
   "id": "5c0922ac",
   "metadata": {},
   "source": [
    "# Sistema de Orçamento"
   ]
  },
  {
   "cell_type": "markdown",
   "id": "79bb2979",
   "metadata": {},
   "source": [
    "### Mostrando dados para o usuário"
   ]
  },
  {
   "cell_type": "code",
   "execution_count": 1,
   "id": "c733e961",
   "metadata": {},
   "outputs": [
    {
     "name": "stdout",
     "output_type": "stream",
     "text": [
      "Orçamento gerado com sucesso!\n"
     ]
    }
   ],
   "source": [
    "print(\"Orçamento gerado com sucesso!\")"
   ]
  },
  {
   "cell_type": "markdown",
   "id": "b967482d",
   "metadata": {},
   "source": [
    "### Entrada de dados do usuário "
   ]
  },
  {
   "cell_type": "code",
   "execution_count": 1,
   "id": "1003a62f",
   "metadata": {},
   "outputs": [
    {
     "name": "stdout",
     "output_type": "stream",
     "text": [
      "Digite a descrição do projeto: teste\n",
      "Digite a quantidade de horas previstas: 100\n",
      "Digite o valor da hora trabalhada: 20\n",
      "Digite o prazo: 30\n"
     ]
    },
    {
     "data": {
      "text/plain": [
       "'30'"
      ]
     },
     "execution_count": 1,
     "metadata": {},
     "output_type": "execute_result"
    }
   ],
   "source": [
    "input(\"Digite a descrição do projeto: \")\n",
    "input(\"Digite a quantidade de horas previstas: \")\n",
    "input(\"Digite o valor da hora trabalhada: \")\n",
    "input(\"Digite o prazo: \")"
   ]
  },
  {
   "cell_type": "markdown",
   "id": "70ec8acb",
   "metadata": {},
   "source": [
    "### Armazenando dados com variáveis\n"
   ]
  },
  {
   "cell_type": "code",
   "execution_count": 14,
   "id": "1082d520",
   "metadata": {},
   "outputs": [
    {
     "name": "stdout",
     "output_type": "stream",
     "text": [
      "Digite a descrição do projeto: Orçamento\n",
      "Digite a quantidade de horas previstas: 100\n",
      "Digite o valor da hora trabalhada: 200\n",
      "Digite o prazo: 3 meses\n"
     ]
    }
   ],
   "source": [
    "projeto = input(\"Digite a descrição do projeto: \")\n",
    "horas = input(\"Digite a quantidade de horas previstas: \")\n",
    "valor_hora = input(\"Digite o valor da hora trabalhada: \")\n",
    "prazo = input(\"Digite o prazo: \")\n",
    "\n"
   ]
  },
  {
   "cell_type": "markdown",
   "id": "6b98b275",
   "metadata": {},
   "source": [
    "### Calculando valor total do projeto"
   ]
  },
  {
   "cell_type": "code",
   "execution_count": 11,
   "id": "ac8bbce4",
   "metadata": {},
   "outputs": [
    {
     "name": "stdout",
     "output_type": "stream",
     "text": [
      "20000\n"
     ]
    }
   ],
   "source": [
    "valor_total = int(horas) * int(valor_hora)\n",
    "print(valor_total)"
   ]
  },
  {
   "cell_type": "markdown",
   "id": "34a7232e",
   "metadata": {},
   "source": [
    "### Gerando o PDF do Projeto"
   ]
  },
  {
   "cell_type": "code",
   "execution_count": 6,
   "id": "eb40cb19",
   "metadata": {},
   "outputs": [
    {
     "name": "stdout",
     "output_type": "stream",
     "text": [
      "Collecting fpdf\n",
      "  Downloading fpdf-1.7.2.tar.gz (39 kB)\n",
      "  Preparing metadata (setup.py): started\n",
      "  Preparing metadata (setup.py): finished with status 'done'\n",
      "Building wheels for collected packages: fpdf\n",
      "  Building wheel for fpdf (setup.py): started\n",
      "  Building wheel for fpdf (setup.py): finished with status 'done'\n",
      "  Created wheel for fpdf: filename=fpdf-1.7.2-py2.py3-none-any.whl size=40713 sha256=082e9a164b80f0200125a391779ac7ae7bf2c6ce28692a7886b1692368929d86\n",
      "  Stored in directory: c:\\users\\joaom\\appdata\\local\\pip\\cache\\wheels\\65\\4f\\66\\bbda9866da446a72e206d6484cd97381cbc7859a7068541c36\n",
      "Successfully built fpdf\n",
      "Installing collected packages: fpdf\n",
      "Successfully installed fpdf-1.7.2\n"
     ]
    }
   ],
   "source": [
    "!pip install fpdf"
   ]
  },
  {
   "cell_type": "code",
   "execution_count": 2,
   "id": "0176c86f",
   "metadata": {},
   "outputs": [],
   "source": [
    "from fpdf import FPDF"
   ]
  },
  {
   "cell_type": "code",
   "execution_count": 15,
   "id": "4f850360",
   "metadata": {},
   "outputs": [
    {
     "name": "stdout",
     "output_type": "stream",
     "text": [
      "Orçamento gerado com sucesso!\n"
     ]
    }
   ],
   "source": [
    "pdf = FPDF()\n",
    "\n",
    "pdf.add_page()\n",
    "pdf.set_font(\"Arial\")\n",
    "pdf.image(\"template.png\",x=0,y=0)\n",
    "\n",
    "pdf.text(115,145,projeto)\n",
    "pdf.text(115,160,horas)\n",
    "pdf.text(115,175,valor_hora)\n",
    "pdf.text(115,190,prazo)\n",
    "pdf.text(115,205,str(valor_total))\n",
    "\n",
    "pdf.output(\"Orcamento.pdf\")\n",
    "print(\"Orçamento gerado com sucesso!\")"
   ]
  },
  {
   "cell_type": "code",
   "execution_count": null,
   "id": "75204a85",
   "metadata": {},
   "outputs": [],
   "source": []
  }
 ],
 "metadata": {
  "kernelspec": {
   "display_name": "Python 3 (ipykernel)",
   "language": "python",
   "name": "python3"
  },
  "language_info": {
   "codemirror_mode": {
    "name": "ipython",
    "version": 3
   },
   "file_extension": ".py",
   "mimetype": "text/x-python",
   "name": "python",
   "nbconvert_exporter": "python",
   "pygments_lexer": "ipython3",
   "version": "3.11.3"
  }
 },
 "nbformat": 4,
 "nbformat_minor": 5
}
